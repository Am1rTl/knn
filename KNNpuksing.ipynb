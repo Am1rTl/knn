{
 "cells": [
  {
   "cell_type": "code",
   "execution_count": 4,
   "id": "de3e82cf",
   "metadata": {},
   "outputs": [],
   "source": [
    "from knn import KNNClassifier, BatchedKNNClassifier\n",
    "from knn.distances import euclidean_distance, cosine_distance\n",
    "from knn.model_selection import knn_cross_val_score\n",
    "from sklearn import datasets\n",
    "import numpy as np\n",
    "from sklearn.model_selection import KFold\n",
    "from sklearn.metrics import accuracy_score\n",
    "from sklearn.metrics import confusion_matrix\n",
    "import matplotlib as plt\n",
    "from knn import BatchedKNNClassifier\n",
    "from collections import defaultdict\n",
    "import warnings\n",
    "warnings.filterwarnings('ignore')"
   ]
  },
  {
   "cell_type": "code",
   "execution_count": 11,
   "id": "ea53c9bb",
   "metadata": {},
   "outputs": [],
   "source": [
    "import random"
   ]
  },
  {
   "cell_type": "code",
   "execution_count": null,
   "id": "0474177e",
   "metadata": {},
   "outputs": [],
   "source": [
    "X, y = datasets.fetch_openml('mnist_784', version=1, return_X_y=True)"
   ]
  },
  {
   "cell_type": "markdown",
   "id": "5783a52e",
   "metadata": {},
   "source": [
    "# Эксперимент 1"
   ]
  },
  {
   "cell_type": "code",
   "execution_count": 35,
   "id": "f0cce524",
   "metadata": {},
   "outputs": [],
   "source": [
    "def graph(matrix):\n",
    "    plt.plot((matrix[0]),(matrix[1]))\n",
    "    plt.show()\n"
   ]
  },
  {
   "cell_type": "code",
   "execution_count": null,
   "id": "eb8bbc9d",
   "metadata": {},
   "outputs": [],
   "source": []
  }
 ],
 "metadata": {
  "kernelspec": {
   "display_name": "Python 3 (ipykernel)",
   "language": "python",
   "name": "python3"
  },
  "language_info": {
   "codemirror_mode": {
    "name": "ipython",
    "version": 3
   },
   "file_extension": ".py",
   "mimetype": "text/x-python",
   "name": "python",
   "nbconvert_exporter": "python",
   "pygments_lexer": "ipython3",
   "version": "3.9.7"
  }
 },
 "nbformat": 4,
 "nbformat_minor": 5
}
